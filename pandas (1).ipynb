{
 "cells": [
  {
   "cell_type": "markdown",
   "id": "64527e4d-797d-4397-8828-2943f24a8606",
   "metadata": {},
   "source": [
    "Q1. Create a Pandas Series that contains the following data: 4, 8, 15, 16, 23, and 42. Then, print the series.\n"
   ]
  },
  {
   "cell_type": "code",
   "execution_count": 2,
   "id": "c3720f14-f966-4abd-878b-9503aadfaed1",
   "metadata": {},
   "outputs": [],
   "source": [
    "import pandas as pd"
   ]
  },
  {
   "cell_type": "code",
   "execution_count": 3,
   "id": "212342f4-d9b8-4733-9417-2910fb2cf956",
   "metadata": {},
   "outputs": [],
   "source": [
    "data = [4,8,15,16,23,42]"
   ]
  },
  {
   "cell_type": "code",
   "execution_count": 5,
   "id": "ec1b8e6a-7ded-4159-b7c1-1c05f4070e90",
   "metadata": {},
   "outputs": [],
   "source": [
    "series = pd.Series(data)"
   ]
  },
  {
   "cell_type": "code",
   "execution_count": 6,
   "id": "2d412910-425f-4e09-8073-bf2e8a13dd1f",
   "metadata": {},
   "outputs": [
    {
     "name": "stdout",
     "output_type": "stream",
     "text": [
      "0     4\n",
      "1     8\n",
      "2    15\n",
      "3    16\n",
      "4    23\n",
      "5    42\n",
      "dtype: int64\n"
     ]
    }
   ],
   "source": [
    "print(series)"
   ]
  },
  {
   "cell_type": "markdown",
   "id": "402a03ba-ce2a-489b-ab1a-60838de91237",
   "metadata": {},
   "source": [
    "Q2.Create a variable of list type containing 10 elements in it, and apply pandas.Series function on the\n",
    "variable print it."
   ]
  },
  {
   "cell_type": "code",
   "execution_count": 7,
   "id": "7dde1d4b-5c0e-4748-afb1-1f67f7e4d690",
   "metadata": {},
   "outputs": [],
   "source": [
    "my_list = [1, 2, 3, 4, 5, 6, 7, 8, 9, 10]\n"
   ]
  },
  {
   "cell_type": "code",
   "execution_count": 8,
   "id": "e50549c5-78ce-4545-9987-015ca83dfb49",
   "metadata": {},
   "outputs": [
    {
     "name": "stdout",
     "output_type": "stream",
     "text": [
      "0     1\n",
      "1     2\n",
      "2     3\n",
      "3     4\n",
      "4     5\n",
      "5     6\n",
      "6     7\n",
      "7     8\n",
      "8     9\n",
      "9    10\n",
      "dtype: int64\n"
     ]
    }
   ],
   "source": [
    "series_from_list = pd.Series(my_list)\n",
    "\n",
    "print(series_from_list)"
   ]
  },
  {
   "cell_type": "markdown",
   "id": "cd6d9b74-85ed-4620-87cb-8cdfa2e9235d",
   "metadata": {},
   "source": [
    "Q3. Create a Pandas DataFrame that contains the following data:\n",
    "\n",
    "      Name              Age              Gender\n",
    "      Alice             25               Female\n",
    "      \n",
    "      Bob               30               Male\n",
    "      \n",
    "      Clarie            27               Female"
   ]
  },
  {
   "cell_type": "code",
   "execution_count": 9,
   "id": "b67da334-c36b-4e4c-ad70-7819bebf7e8b",
   "metadata": {},
   "outputs": [],
   "source": [
    "data = {\n",
    "          'Name':  ['Alice', 'Bob', 'Claire'],\n",
    "          'Age': [25, 30, 27],\n",
    "          'Gender': ['Female', 'Male', 'Female']\n",
    "    \n",
    "         }  "
   ]
  },
  {
   "cell_type": "code",
   "execution_count": 10,
   "id": "96f48bae-a3b7-443b-ae69-6ca60cecd3dd",
   "metadata": {},
   "outputs": [],
   "source": [
    "df = pd.DataFrame(data)"
   ]
  },
  {
   "cell_type": "code",
   "execution_count": 11,
   "id": "b73d239b-e8ba-4c4a-ac75-5a7cad5671f0",
   "metadata": {},
   "outputs": [
    {
     "name": "stdout",
     "output_type": "stream",
     "text": [
      "     Name  Age  Gender\n",
      "0   Alice   25  Female\n",
      "1     Bob   30    Male\n",
      "2  Claire   27  Female\n"
     ]
    }
   ],
   "source": [
    "print(df)"
   ]
  },
  {
   "cell_type": "markdown",
   "id": "7d6eca35-f0a8-455b-90e9-66582f660dea",
   "metadata": {},
   "source": [
    "Q4. What is ‘DataFrame’ in pandas and how is it different from pandas.series? Explain with an example."
   ]
  },
  {
   "cell_type": "markdown",
   "id": "8985ce9d-a9c6-4c98-a45c-509f0b7f72e9",
   "metadata": {},
   "source": [
    "ans- In Pandas, a DataFrame is a two-dimensional, size-mutable, and heterogeneous tabular data structure. It consists of rows and columns, similar to a spreadsheet or a SQL table. Each column in a DataFrame can hold data of different types (numeric, string, boolean, etc.), and each row represents a separate observation or record.\n",
    "\n",
    "On the other hand, a Series is a one-dimensional labeled array in Pandas. It can hold data of the same type and is similar to a column in a DataFrame. Each element in a Series has an associated index, which can be used to access and manipulate the data.\n"
   ]
  },
  {
   "cell_type": "markdown",
   "id": "1e3d170c-b385-46fb-8207-c11e33b7e2d4",
   "metadata": {},
   "source": [
    "Here's a more detailed explanation with an example to illustrate the differences between DataFrame and Series:"
   ]
  },
  {
   "cell_type": "code",
   "execution_count": 12,
   "id": "0d21982b-36cf-4797-ba82-33374708db60",
   "metadata": {},
   "outputs": [],
   "source": [
    "# Creating a DataFrame\n",
    "data = {\n",
    "    'Name': ['Alice', 'Bob', 'Claire'],\n",
    "    'Age': [25, 30, 27],\n",
    "    'Gender': ['Female', 'Male', 'Female']\n",
    "}"
   ]
  },
  {
   "cell_type": "code",
   "execution_count": 13,
   "id": "fdfe72a1-e9d9-4d1e-90fd-6e9a9325c52c",
   "metadata": {},
   "outputs": [
    {
     "name": "stdout",
     "output_type": "stream",
     "text": [
      "DataFrame:\n",
      "     Name  Age  Gender\n",
      "0   Alice   25  Female\n",
      "1     Bob   30    Male\n",
      "2  Claire   27  Female\n",
      "\n"
     ]
    }
   ],
   "source": [
    "df = pd.DataFrame(data)\n",
    "print(\"DataFrame:\")\n",
    "print(df)\n",
    "print()\n"
   ]
  },
  {
   "cell_type": "code",
   "execution_count": 14,
   "id": "fe83aa85-5395-49c4-8208-ba9368187999",
   "metadata": {},
   "outputs": [
    {
     "name": "stdout",
     "output_type": "stream",
     "text": [
      "Series:\n",
      "0    25\n",
      "1    30\n",
      "2    27\n",
      "Name: Age, dtype: int64\n"
     ]
    }
   ],
   "source": [
    "# Creating a Series\n",
    "ages = pd.Series([25, 30, 27], name='Age')\n",
    "print(\"Series:\")\n",
    "print(ages)"
   ]
  },
  {
   "cell_type": "markdown",
   "id": "0566c5c2-d3d6-466f-a6a0-4c1771c4962b",
   "metadata": {},
   "source": [
    "In the above example, the df DataFrame has multiple columns ('Name', 'Age', and 'Gender') and each column is essentially a Series. The ages Series only contains the 'Age' column's data. While a DataFrame is two-dimensional and contains multiple columns, a Series is one-dimensional and represents a single column of data. The key distinction is that a DataFrame can hold multiple Series objects (columns), providing a way to organize and manipulate tabular data more comprehensively."
   ]
  },
  {
   "cell_type": "markdown",
   "id": "456971e4-b186-4924-9b25-52275de1249b",
   "metadata": {},
   "source": [
    "Q5.What are some common functions you can use to manipulate data in a Pandas DataFrame? Can\n",
    "you give an example of when you might use one of these functions?"
   ]
  },
  {
   "cell_type": "markdown",
   "id": "4f09ee80-066e-4e50-8e0f-fa0413f17409",
   "metadata": {},
   "source": [
    "ans-Pandas provides a wide range of functions to manipulate data in a DataFrame. Here are some common functions along with examples of when you might use them:\n",
    "\n",
    "1. Filtering Rows:\n",
    "   - `df[df['column_name'] > value]`: Select rows based on a condition.\n",
    "   - `df.query('column_name > value')`: Another way to filter rows using a SQL-like syntax.\n",
    "\n",
    "   Example: You might use this to filter and display only the rows where the 'Age' column is greater than 25.\n",
    "\n",
    "2. Sorting:\n",
    "   - `df.sort_values(by='column_name')`: Sort the DataFrame based on a specific column.\n",
    "\n",
    "   Example: You can sort the DataFrame based on the 'Age' column to arrange the rows in ascending or descending order of            age.\n",
    "\n",
    "3. Grouping and Aggregation:\n",
    "   - `df.groupby('column_name').aggregate_function()`: Group data based on a column and apply an aggregate function (sum,       mean, etc.).\n",
    "\n",
    "    Example: You might group the data by 'Gender' and then calculate the average age for each gender group.\n",
    "\n",
    "4. Adding Columns:\n",
    "   - `df['new_column'] = value`: Add a new column with a specific value or computation.\n",
    "\n",
    "   Example: You can calculate the age difference from a reference age and add it as a new column.\n",
    "\n",
    "5. Applying Functions:\n",
    "   - `df.apply(function_name, axis=1)`: Apply a function to each row or column.\n",
    "\n",
    "   Example: You could define a function that calculates a derived value based on the values in multiple columns, and then    apply it row-wise.\n",
    "\n",
    "6. Merging and Joining:\n",
    "   - `pd.merge(df1, df2, on='common_column')`: Merge two DataFrames based on a common column.\n",
    "   - `df1.join(df2)`: Join two DataFrames based on their indices.\n",
    "\n",
    "   Example: If you have separate DataFrames for customer details and their orders, you can merge them to get a combined               DataFrame with customer information alongside their orders.\n",
    "\n",
    "7. Handling Missing Data:\n",
    "   - `df.dropna()`: Remove rows or columns with missing values.\n",
    "   - `df.fillna(value)`: Fill missing values with a specified value.\n",
    "\n",
    "   Example: If some rows have missing age values, you can choose to remove those rows or fill the missing ages with a\n",
    "    default value.\n",
    "\n",
    "8. Pivoting and Reshaping:\n",
    "   - `df.pivot_table(index='index_column', columns='columns', values='values')`: Create a pivot table from a DataFrame.\n",
    "\n",
    "   Example: You can create a pivot table to summarize and analyze data based on different dimensions.\n",
    "\n",
    "9. Dropping Columns or Rows:\n",
    "   - `df.drop('column_name', axis=1)`: Remove a specific column from the DataFrame.\n",
    "   - `df.drop(index=row_index)`: Remove a specific row based on its index.\n",
    "\n",
    "   Example: If a column contains redundant information, you can drop that column from the DataFrame.\n",
    "\n",
    "These are just a few examples of the many functions Pandas provides to manipulate DataFrame data. Depending on your specific data analysis needs, you can choose the appropriate functions to transform, analyze, and visualize your data effectively.\n"
   ]
  },
  {
   "cell_type": "markdown",
   "id": "ead1f273-5567-4730-8f89-6f31b04073d9",
   "metadata": {},
   "source": [
    "Q6.Which of the following is mutable in nature Series, DataFrame, Panel?"
   ]
  },
  {
   "cell_type": "markdown",
   "id": "45f76112-4f09-4ba4-a7cc-49a4d5bcd2d9",
   "metadata": {},
   "source": [
    "ans-Among the options given, both Series and DataFrame are mutable in nature, while Panel is not. \n",
    "\n",
    "Series: A Pandas Series is mutable, meaning you can modify its values and other attributes after creation. For example,           you can change the values of elements in a Series, reassign its index, or update its name.\n",
    "\n",
    "DataFrame: Similarly, a Pandas DataFrame is mutable. You can modify its columns, values, indices, and other attributes.              You can add or remove columns, change the values in cells, perform various operations, and reshape the                    DataFrame.\n",
    "\n",
    "Panel: However, the Panel data structure has been deprecated in recent versions of Pandas and is no longer recommended          for use. In its place, Pandas suggests using multi-index DataFrames to handle higher-dimensional data.\n",
    "\n",
    "Keep in mind that the concept of mutability refers to the ability to change the object's content after its creation. Both Series and DataFrame allow you to perform various operations and modifications on their contents, while Panel is not recommended for use anymore."
   ]
  },
  {
   "cell_type": "markdown",
   "id": "e7301c43-5e64-4457-a506-8effc567e6e0",
   "metadata": {},
   "source": [
    "Q7. Create a DataFrame using multiple Series. Explain with an example."
   ]
  },
  {
   "cell_type": "code",
   "execution_count": 15,
   "id": "9468c1b9-64d6-40e9-bac0-b7d12c2f0adc",
   "metadata": {},
   "outputs": [],
   "source": [
    "#creating a series\n",
    "names = pd.Series(['Alice',  'Bob', 'Clarie'])\n",
    "ages = pd.Series([25,30,37])\n",
    "gender = pd.Series(['Female', 'Male', 'Female'])"
   ]
  },
  {
   "cell_type": "code",
   "execution_count": 17,
   "id": "55017679-a997-45cd-8aef-4c150f775559",
   "metadata": {},
   "outputs": [],
   "source": [
    "#creating a dataframe using series\n",
    "data = {\n",
    "    'Name': names,\n",
    "    'Age': ages,\n",
    "    'Gender': gender\n",
    "}"
   ]
  },
  {
   "cell_type": "code",
   "execution_count": null,
   "id": "ac8ebdc4-1924-43b7-943c-d131bd05b4fb",
   "metadata": {},
   "outputs": [],
   "source": [
    "df= "
   ]
  }
 ],
 "metadata": {
  "kernelspec": {
   "display_name": "Python 3 (ipykernel)",
   "language": "python",
   "name": "python3"
  },
  "language_info": {
   "codemirror_mode": {
    "name": "ipython",
    "version": 3
   },
   "file_extension": ".py",
   "mimetype": "text/x-python",
   "name": "python",
   "nbconvert_exporter": "python",
   "pygments_lexer": "ipython3",
   "version": "3.10.8"
  }
 },
 "nbformat": 4,
 "nbformat_minor": 5
}
